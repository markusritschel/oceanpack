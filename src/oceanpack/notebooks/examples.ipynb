{
 "cells": [
  {
   "cell_type": "markdown",
   "metadata": {
    "collapsed": true,
    "pycharm": {
     "name": "#%% md\n"
    }
   },
   "source": [
    "# OceanPack\n",
    "We use a short excerpt of real underwater CO2 measurements to demonstrate the routines in the `oceanpack` module."
   ]
  },
  {
   "cell_type": "markdown",
   "metadata": {
    "pycharm": {
     "name": "#%% md\n"
    }
   },
   "source": [
    "### read file\n",
    "First, read the file into a pd.DataFrame and show head and variable names.\n",
    "> The `read_oceanpack()` routine can be fed with either a single file path or a list of file paths."
   ]
  },
  {
   "cell_type": "code",
   "execution_count": 143,
   "metadata": {
    "pycharm": {
     "name": "#%%\n"
    }
   },
   "outputs": [
    {
     "name": "stdout",
     "output_type": "stream",
     "text": [
      "                     FRAC    SEC      CO2    CO2abs      H2O    H2Oabs\n",
      "DATE_TIME                                                             \n",
      "2019-05-09 13:00:00     0  11530  324.070  0.079997  13.2548  0.086408\n",
      "2019-05-09 13:00:10     0  11540  324.191  0.080007  13.2614  0.086425\n",
      "2019-05-09 13:00:20     0  11550  324.126  0.080019  13.2564  0.086426\n",
      "2019-05-09 13:00:30     0  11560  324.335  0.080061  13.2586  0.086441\n",
      "2019-05-09 13:00:40     0  11570  324.320  0.080070  13.2580  0.086449\n",
      "Index(['FRAC', 'SEC', 'CO2', 'CO2abs', 'H2O', 'H2Oabs', 'H2Odew', 'CellTemp',\n",
      "       'CellPress', 'VInput', 'CO2raw', 'CO2ref', 'H2Oraw', 'H2Oref',\n",
      "       'H2OzCal', 'CO2zCal', 'Span1Cal', 'Span2Cal', 'SWVers', 'CO2kzero',\n",
      "       'CO2kspan1', 'CO2kspan2', 'H2Okzero', 'AIN3_mA/Waterflow', 'FLOWgas',\n",
      "       'TempAirInt', 'DPressInt', 'Latitude', 'Longitude', 'Speed', 'Course',\n",
      "       'Magn.Var', 'GPS Time', 'waterTemp', 'waterCond', 'pvuaVin', 'pvuaVout',\n",
      "       'pvuaPuff', 'pvuaIout', 'PUMP', 'VALVE1', 'VALVE2', 'VALVE3', 'VALVE4',\n",
      "       'VALVE5', 'VALVE6', 'VALVE7', 'VALVE8', 'VALVE9', 'STATUS'],\n",
      "      dtype='object')\n"
     ]
    }
   ],
   "source": [
    "from oceanpack import *\n",
    "\n",
    "file = 'example_op.log'\n",
    "df = read_oceanpack(file)\n",
    "\n",
    "print(df.iloc[:,:6].head())\n",
    "print(df.columns)"
   ]
  },
  {
   "cell_type": "markdown",
   "source": [
    "> Hint: Depending on the version of the OceanPack not all of the for the following calculations required variables are stored in the log files of the analyzer.\n",
    "> It might be necessary to combine datasets both from the Analyzer as well as from the NetDI unit.\n",
    "> Both files can be usually read by `read_oceanpack()` and might be combined, for example, via\n",
    ">\n",
    "> ```\n",
    "> df_combined = pd.merge_asof(data_netdi.sort_index(), data_analyzer.sort_index(),\n",
    ">                             left_index=True, right_index=True,\n",
    ">                             tolerance=pd.Timedelta('2min'), direction='nearest')\n",
    "> ```"
   ],
   "metadata": {
    "collapsed": false,
    "pycharm": {
     "name": "#%% md\n"
    }
   }
  },
  {
   "cell_type": "markdown",
   "metadata": {
    "pycharm": {
     "name": "#%% md\n"
    }
   },
   "source": [
    "### Convert coordinates\n",
    "Convert coordinates in 'ddmm.mmmm' format into 'dd.dddd'."
   ]
  },
  {
   "cell_type": "code",
   "execution_count": 144,
   "metadata": {
    "pycharm": {
     "name": "#%%\n"
    }
   },
   "outputs": [
    {
     "name": "stdout",
     "output_type": "stream",
     "text": [
      "DATE_TIME\n",
      "2019-05-09 18:30:40   -453.1092\n",
      "2019-05-09 18:30:50   -453.1395\n",
      "Name: Longitude, dtype: float64\n",
      "\n",
      "Convert coordinates...\n",
      "\n",
      "DATE_TIME\n",
      "2019-05-09 18:30:40   -4.885153\n",
      "2019-05-09 18:30:50   -4.885658\n",
      "Name: Longitude, dtype: float64\n"
     ]
    }
   ],
   "source": [
    "print(df['Longitude'].tail(3))\n",
    "print('\\nConvert coordinates...\\n')\n",
    "df['Longitude'] = decimal_degrees(df['Longitude'])\n",
    "df['Latitude'] = decimal_degrees(df['Longitude'])\n",
    "print(df['Longitude'].tail(3))"
   ]
  },
  {
   "cell_type": "markdown",
   "metadata": {
    "pycharm": {
     "name": "#%% md\n"
    }
   },
   "source": [
    "### Compute pressure at equilibrator\n",
    "The OceanPack only measures the pressure at the analyzer cell ($p_\\text{cell}$) as well as the pressure difference $p_\\text{diff}$ at the intake.\n",
    "To retrieve the pressure at the equilibrator ($p_\\text{equ}$), we build a moving average of the difference pressure\n",
    "(to smooth the fluctuations) and add this on the cell pressure.\n",
    "Finally, we convert the pressure into atm units."
   ]
  },
  {
   "cell_type": "code",
   "execution_count": 148,
   "metadata": {
    "pycharm": {
     "name": "#%%\n"
    }
   },
   "outputs": [
    {
     "name": "stdout",
     "output_type": "stream",
     "text": [
      "\n",
      "Pressure is assumed to be in hPa and was converted to atm\n"
     ]
    }
   ],
   "source": [
    "pressure_equ = df['CellPress'] + df['DPressInt'].rolling('1min').mean()  # in mBar\n",
    "df['press_equ'] = pressure2atm(pressure_equ)"
   ]
  },
  {
   "cell_type": "markdown",
   "metadata": {
    "pycharm": {
     "name": "#%% md\n"
    }
   },
   "source": [
    "> Hint: The routine `pressure2atm()` tries to guess the input unit by hands of the order of magnitude of the input values.\n",
    "If this doesn't work (check the info message above), convert it by hand."
   ]
  },
  {
   "cell_type": "markdown",
   "metadata": {
    "pycharm": {
     "name": "#%% md\n"
    }
   },
   "source": [
    "### Filter non-operating phases\n",
    "Usually, the OceanPack runs through various phases (such as spin-up, calibration, normal operation).\n",
    "For our final calculation we want to get rid of all the CO2 related values in non-operating phases and also skip the first x minutes after each non-operating phase is finished,\n",
    "since after calibration, the analyzer usually needs some time to get back to normal levels."
   ]
  },
  {
   "cell_type": "code",
   "execution_count": 135,
   "metadata": {
    "pycharm": {
     "name": "#%%\n"
    }
   },
   "outputs": [],
   "source": [
    "df = set_nonoperating_to_nan(df, col=[x for x in df.columns if 'CO2' in x], shift=\"20min\")"
   ]
  },
  {
   "cell_type": "markdown",
   "metadata": {
    "pycharm": {
     "name": "#%% md\n"
    }
   },
   "source": [
    "### CO2 calculations\n",
    "Now, after all the preparation is done, let's calculate our CO2 variables of interest.\n",
    "\n",
    "First, we need to convert the xCO2 concentration, which is given by the analyzer, into partial pressure.\n",
    "\n",
    "According to Dickson et al. (2007), SOP 4, the partial pressure of carbon dioxide in air, which is in equilibrium with a sample of sea water, is defined as the product of the mole fraction of CO2 in the equilibrated gas phase and the total pressure of equilibration $p_\\text{equ}$:\n",
    "\n",
    "\\begin{equation*}\n",
    "pCO_2 = xCO_2 \\cdot p_\\text{equ}\n",
    "\\end{equation*}"
   ]
  },
  {
   "cell_type": "code",
   "execution_count": 149,
   "metadata": {
    "pycharm": {
     "name": "#%%\n"
    }
   },
   "outputs": [
    {
     "name": "stdout",
     "output_type": "stream",
     "text": [
      "\n",
      "Pressure is assumed to be already in atm (no conversion)\n"
     ]
    }
   ],
   "source": [
    "df['pCO2_wet_equ'] = ppm2uatm(df['CO2'], df['press_equ'])"
   ]
  },
  {
   "cell_type": "markdown",
   "metadata": {
    "pycharm": {
     "name": "#%% md\n"
    }
   },
   "source": [
    "Second, we want to apply a temperature correction.\n",
    "The correction follows Takahashi et al. (2009):\n",
    "\n",
    "\\begin{equation*}\n",
    "{(xCO_2)}_{SST} = {(xCO_2)}_{T_\\text{equ}} \\cdot \\exp{\\Big(0.0433\\cdot(SST - T_\\text{equ}) - 4.35\\times 10^{-5}\\cdot(SST^2 - T_\\text{equ}^2)\\Big)}\n",
    "\\end{equation*}\n",
    "\n",
    "For demonstration purposes, we create an artificial SST, which is slightly cooler than the water temperature measured at the equilibrator."
   ]
  },
  {
   "cell_type": "code",
   "execution_count": 150,
   "metadata": {
    "pycharm": {
     "name": "#%%\n"
    }
   },
   "outputs": [],
   "source": [
    "df['insituTemp'] = df['waterTemp'] - .2\n",
    "df['pCO2_wet_sst'] = temperature_correction(df['pCO2_wet_equ'], df['waterTemp'], df['insituTemp'])"
   ]
  },
  {
   "cell_type": "markdown",
   "metadata": {
    "pycharm": {
     "name": "#%% md\n"
    }
   },
   "source": [
    "Finally, we can compute the fugacity by hands of the before calculated partial pressure, the pressure at the equilibrator and the SST.\n",
    "\n",
    "According to Weiss (1974), the fugacity can be calculated via\n",
    "\n",
    "\\begin{equation*}\n",
    "(fCO_2)^\\text{wet}_\\text{SST} = (pCO_2)^\\text{wet}_\\text{SST} \\cdot\n",
    "        \\exp{\\Big(p_\\text{equ}\\cdot\\frac{\\left[ B(CO_2,SST) + 2\\,\\left(1-(xCO_2)^\\text{wet}_{SST}\\right)^2 \\, \\delta(CO_2,SST)\\right]}{R\\cdot SST}\\Big)}\n",
    "\\end{equation*}\n",
    "\n",
    "where $SST$ is the sea surface temperature in K, $R$ the gas constant and $B(CO_2,SST)$ and $\\delta(CO_2,SST)$ are the virial coefficients for CO2 (both in $cm^3\\,mol^{-1}$), which are given as\n",
    "\n",
    "\\begin{equation*}\n",
    "B(CO_2,T) = -1636.75 + 12.0408\\,T - 0.0327957\\,T^2 + 0.0000316528\\,T^3\n",
    "\\end{equation*}\n",
    "\n",
    "and\n",
    "\n",
    "\\begin{equation*}\n",
    "\\delta(CO_2,T) = 57.7 - 0.188\\,T\n",
    "\\end{equation*}"
   ]
  },
  {
   "cell_type": "code",
   "execution_count": 151,
   "metadata": {
    "pycharm": {
     "name": "#%%\n"
    }
   },
   "outputs": [
    {
     "name": "stdout",
     "output_type": "stream",
     "text": [
      "\n",
      "Pressure is assumed to be already in atm (no conversion)\n"
     ]
    }
   ],
   "source": [
    "df['fCO2_wet_sst'] = fugacity(df['pCO2_wet_sst'], df['press_equ'], df['insituTemp'])\n"
   ]
  },
  {
   "cell_type": "markdown",
   "source": [
    "### Plot the results"
   ],
   "metadata": {
    "collapsed": false,
    "pycharm": {
     "name": "#%% md\n"
    }
   }
  },
  {
   "cell_type": "code",
   "execution_count": 152,
   "metadata": {
    "pycharm": {
     "name": "#%%\n"
    }
   },
   "outputs": [
    {
     "data": {
      "text/plain": "<Figure size 432x288 with 1 Axes>",
      "image/png": "[encoded data removed]"
     },
     "metadata": {
      "needs_background": "light"
     },
     "output_type": "display_data"
    }
   ],
   "source": [
    "import matplotlib.pyplot as plt\n",
    "df['pCO2_wet_equ'].plot()\n",
    "df['pCO2_wet_sst'].plot()\n",
    "df['fCO2_wet_sst'].plot()\n",
    "plt.legend()\n",
    "plt.xlabel('Time')\n",
    "plt.ylabel('CO2 [µatm]')\n",
    "plt.show()"
   ]
  }
 ],
 "metadata": {
  "kernelspec": {
   "display_name": "PyCharm (cmip5-bayes-new)",
   "language": "python",
   "name": "pycharm-ff5911ed"
  },
  "language_info": {
   "codemirror_mode": {
    "name": "ipython",
    "version": 3
   },
   "file_extension": ".py",
   "mimetype": "text/x-python",
   "name": "python",
   "nbconvert_exporter": "python",
   "pygments_lexer": "ipython3",
   "version": "3.7.6"
  }
 },
 "nbformat": 4,
 "nbformat_minor": 1
}