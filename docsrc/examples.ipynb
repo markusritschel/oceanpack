{
 "cells": [
  {
   "cell_type": "markdown",
   "metadata": {
    "pycharm": {
     "name": "#%% md\n"
    }
   },
   "source": [
    "# Examples\n",
    "Here, we use a short excerpt of real underwater CO2 measurements to demonstrate the routines in the `oceanpack` module."
   ]
  },
  {
   "cell_type": "markdown",
   "metadata": {
    "pycharm": {
     "name": "#%% md\n"
    }
   },
   "source": [
    "## Read in the file\n",
    "First, read the file into a pd.DataFrame and show head and variable names.\n",
    "\n",
    "> The `read_oceanpack()` routine can be fed with either a single file path or a list of file paths."
   ]
  },
  {
   "cell_type": "code",
   "execution_count": 1,
   "metadata": {},
   "outputs": [
    {
     "name": "stdout",
     "output_type": "stream",
     "text": [
      "SW Build Datum: Mar 20 2019/12:03:57\n",
      "NDI Serial: 00000000\n",
      "Internal Analyzer Serial: HGA-2235 27.07.2017\n",
      "@SENSOR,,,,,LI840,LI840,LI840,LI840,LI840,LI840,LI840,LI840,LI840,LI840,LI840,LI840,LI840,LI840,LI840,LI840,LI840,LI840,LI840,LI840,LI840,AD24_1,Int.Flow,TCN75A,HWHSC,GPX16,GPX16,GPX16,GPX16,GPX16,GPX16,SS_CTD48,SS_CTD48,Block USV,Block USV,Block USV,Block USV,,,,,,,,,,,,\n",
      "@NAME,DATE,TIME,FRAC,SEC,CO2,CO2abs,H2O,H2Oabs,H2Odew,CellTemp,CellPress,VInput,CO2raw,CO2ref,H2Oraw,H2Oref,H2OzCal,CO2zCal,Span1Cal,Span2Cal,SWVers,CO2kzero,CO2kspan1,CO2kspan2,H2Okzero,AIN3_mA/Waterflow,FLOWgas,TempAirInt,DPressInt,Latitude,Longitude,Speed,Course,Magn.Var,GPS Time,waterTemp,waterCond,pvuaVin,pvuaVout,pvuaPuff,pvuaIout,PUMP,VALVE1,VALVE2,VALVE3,VALVE4,VALVE5,VALVE6,VALVE7,VALVE8,VALVE9,STATUS\n",
      "@UNIT,YYYY-MM-DD,HH:MM:SS,MS,RUNSEC,ppm,-,ppt,-,-,�C,mbar,VDC,-,-,-,-,date,date,date,date,-,-,-,-,-,mA/l/min,ml/min,�C,mbar,ddmm.mmmm,dddmm.mmmm,knots,�,deg,hhmmss,�C,mS/cm,VDC,VDC,on/off,A,ON/OFF,ON/OFF,ON/OFF,ON/OFF,ON/OFF,ON/OFF,ON/OFF,ON/OFF,ON/OFF,ON/OFF,STATE\n",
      "@A0,,,,,0.000000,0.000000,0.000000,0.000000,0.000000,0.000000,0.000000,0.000000,0.000000,0.000000,0.000000,0.000000,0.000000,0.000000,0.000000,0.000000,0.000000,0.000000,0.000000,0.000000,0.000000,-3.000000,0.000000,0.000000,0.000000,0.000000,0.000000,0.000000,0.000000,0.000000,0.000000,0.000000,0.000000,0.000000,0.000000,0.000000,0.000000,,,,,,,,,,,,\n",
      "@A1,,,,,1.000000,1.000000,1.000000,1.000000,1.000000,1.000000,1.000000,1.000000,1.000000,1.000000,1.000000,1.000000,1.000000,1.000000,1.000000,1.000000,1.000000,1.000000,1.000000,1.000000,1.000000,0.950000,1.000000,1.000000,1.000000,1.000000,1.000000,1.000000,1.000000,1.000000,1.000000,1.000000,1.000000,1.000000,1.000000,1.000000,1.000000,,,,,,,,,,,,\n",
      "@A2,,,,,0.000000,0.000000,0.000000,0.000000,0.000000,0.000000,0.000000,0.000000,0.000000,0.000000,0.000000,0.000000,0.000000,0.000000,0.000000,0.000000,0.000000,0.000000,0.000000,0.000000,0.000000,0.000000,0.000000,0.000000,0.000000,0.000000,0.000000,0.000000,0.000000,0.000000,0.000000,0.000000,0.000000,0.000000,0.000000,0.000000,0.000000,,,,,,,,,,,,\n",
      "@MEAN,,,,,1,1,1,1,1,1,1,1,1,1,1,1,1,1,1,1,1,1,1,1,1,1,10,1,1,1,1,1,1,1,1,1,1,1,1,1,1,,,,,,,,,,,,\n"
     ]
    }
   ],
   "source": [
    "!head example_op.log"
   ]
  },
  {
   "cell_type": "code",
   "execution_count": 2,
   "metadata": {
    "pycharm": {
     "name": "#%%\n"
    }
   },
   "outputs": [
    {
     "data": {
      "application/vnd.jupyter.widget-view+json": {
       "model_id": "c77111c16e334f70bd7ca9aecd90d809",
       "version_major": 2,
       "version_minor": 0
      },
      "text/plain": [
       "  0%|          | 0/1 [00:00<?, ?file/s]"
      ]
     },
     "metadata": {},
     "output_type": "display_data"
    },
    {
     "name": "stdout",
     "output_type": "stream",
     "text": [
      "                     FRAC      SEC      CO2    CO2abs      H2O    H2Oabs\n",
      "datetime                                                                \n",
      "2019-05-09 13:00:00   0.0  11530.0  324.070  0.079997  13.2548  0.086408\n",
      "2019-05-09 13:00:10   0.0  11540.0  324.191  0.080007  13.2614  0.086425\n",
      "2019-05-09 13:00:20   0.0  11550.0  324.126  0.080019  13.2564  0.086426\n",
      "2019-05-09 13:00:30   0.0  11560.0  324.335  0.080061  13.2586  0.086441\n",
      "2019-05-09 13:00:40   0.0  11570.0  324.320  0.080070  13.2580  0.086449\n",
      "Index(['FRAC', 'SEC', 'CO2', 'CO2abs', 'H2O', 'H2Oabs', 'H2Odew', 'CellTemp',\n",
      "       'CellPress', 'VInput', 'CO2raw', 'CO2ref', 'H2Oraw', 'H2Oref',\n",
      "       'H2OzCal', 'CO2zCal', 'Span1Cal', 'Span2Cal', 'SWVers', 'CO2kzero',\n",
      "       'CO2kspan1', 'CO2kspan2', 'H2Okzero', 'AIN3_mA/Waterflow', 'FLOWgas',\n",
      "       'TempAirInt', 'DPressInt', 'Latitude', 'Longitude', 'Speed', 'Course',\n",
      "       'Magn.Var', 'GPS Time', 'waterTemp', 'waterCond', 'pvuaVin', 'pvuaVout',\n",
      "       'pvuaPuff', 'pvuaIout', 'PUMP', 'VALVE1', 'VALVE2', 'VALVE3', 'VALVE4',\n",
      "       'VALVE5', 'VALVE6', 'VALVE7', 'VALVE8', 'VALVE9', 'STATUS'],\n",
      "      dtype='object')\n"
     ]
    }
   ],
   "source": [
    "from oceanpack import *\n",
    "\n",
    "file = 'example_op.log'\n",
    "df = read_oceanpack(file)\n",
    "\n",
    "print(df.iloc[:,:6].head())\n",
    "print(df.columns)"
   ]
  },
  {
   "cell_type": "markdown",
   "metadata": {
    "pycharm": {
     "name": "#%% md\n"
    }
   },
   "source": [
    "> Hint: Depending on the version of the OceanPack not all of the for the following calculations required variables are stored in the log files of the analyzer.\n",
    "> It might be necessary to combine datasets both from the Analyzer as well as from the NetDI unit.\n",
    "> Both files can be usually read by `read_oceanpack()` and might be combined, for example, via\n",
    ">\n",
    "> ```\n",
    "> df_combined = pd.merge_asof(data_netdi.sort_index(), data_analyzer.sort_index(),\n",
    ">                             left_index=True, right_index=True,\n",
    ">                             tolerance=pd.Timedelta('2min'), direction='nearest')\n",
    "> ```"
   ]
  },
  {
   "cell_type": "markdown",
   "metadata": {
    "pycharm": {
     "name": "#%% md\n"
    }
   },
   "source": [
    "## Convert coordinates\n",
    "Convert coordinates from 'ddmm.mmmm' format into 'dd.dddd'."
   ]
  },
  {
   "cell_type": "code",
   "execution_count": 3,
   "metadata": {
    "pycharm": {
     "name": "#%%\n"
    }
   },
   "outputs": [
    {
     "name": "stdout",
     "output_type": "stream",
     "text": [
      "datetime\n",
      "2019-05-09 18:30:30   -453.0803\n",
      "2019-05-09 18:30:40   -453.1092\n",
      "2019-05-09 18:30:50   -453.1395\n",
      "Name: Longitude, dtype: float64\n",
      "\n",
      "Convert coordinates...\n",
      "\n",
      "datetime\n",
      "2019-05-09 18:30:30   -4.884672\n",
      "2019-05-09 18:30:40   -4.885153\n",
      "2019-05-09 18:30:50   -4.885658\n",
      "Name: Longitude, dtype: float64\n"
     ]
    }
   ],
   "source": [
    "print(df['Longitude'].tail(3))\n",
    "print('\\nConvert coordinates...\\n')\n",
    "df['Longitude'] = decimal_degrees(df['Longitude'])\n",
    "df['Latitude'] = decimal_degrees(df['Longitude'])\n",
    "print(df['Longitude'].tail(3))"
   ]
  },
  {
   "cell_type": "markdown",
   "metadata": {
    "pycharm": {
     "name": "#%% md\n"
    }
   },
   "source": [
    "## Compute pressure at equilibrator\n",
    "The OceanPack only measures the pressure at the analyzer cell ($p_\\text{cell}$) as well as the pressure difference $p_\\text{diff}$ at the intake.\n",
    "To retrieve the pressure at the equilibrator ($p_\\text{equ}$), we build a moving average of the difference pressure\n",
    "(to smooth the fluctuations) and add this to the cell pressure.\n",
    "Finally, we convert the pressure into atm units."
   ]
  },
  {
   "cell_type": "code",
   "execution_count": 4,
   "metadata": {
    "pycharm": {
     "name": "#%%\n"
    }
   },
   "outputs": [],
   "source": [
    "pressure_equ = df['CellPress'] + df['DPressInt'].rolling('1min').mean()  # in mBar\n",
    "df['press_equ'] = pressure2atm(pressure_equ)"
   ]
  },
  {
   "cell_type": "markdown",
   "metadata": {
    "pycharm": {
     "name": "#%% md\n"
    }
   },
   "source": [
    "> Hint: The routine `oceanpack.helpers.pressure2atm` tries to guess the input unit by hands of the order of magnitude of the input values.\n",
    "If this doesn't work (check the info message above), convert it by hand."
   ]
  },
  {
   "cell_type": "markdown",
   "metadata": {
    "pycharm": {
     "name": "#%% md\n"
    }
   },
   "source": [
    "## Filter non-operating phases\n",
    "Usually, the OceanPack runs through various phases (such as spin-up, calibration, normal operation).\n",
    "For our final calculation we want to get rid of all the CO2 related values in non-operating phases and also skip the first x minutes after each non-operating phase is finished,\n",
    "since after calibration, the analyzer usually needs some time to get back to normal levels."
   ]
  },
  {
   "cell_type": "code",
   "execution_count": 5,
   "metadata": {},
   "outputs": [],
   "source": [
    "data = df\n",
    "status_var = 'STATUS'"
   ]
  },
  {
   "cell_type": "code",
   "execution_count": 6,
   "metadata": {
    "pycharm": {
     "name": "#%%\n"
    }
   },
   "outputs": [],
   "source": [
    "df = set_nonoperating_to_nan(df, col=[x for x in df.columns if 'CO2' in x], shift=\"20min\", status_var='STATUS')"
   ]
  },
  {
   "cell_type": "markdown",
   "metadata": {
    "pycharm": {
     "name": "#%% md\n"
    }
   },
   "source": [
    "## CO2 calculations\n",
    "Now, after all the preparation is done, let's calculate our CO2 variables of interest.\n",
    "\n",
    "First, we need to convert the xCO2 concentration, which is given by the analyzer, into partial pressure.\n",
    "\n",
    "According to Dickson et al. (2007), SOP 4, the partial pressure of carbon dioxide in air, which is in equilibrium with a sample of seawater, is defined as the product of the mole fraction of CO2 in the equilibrated gas phase and the total pressure of equilibration $p_\\text{equ}$:\n",
    "\n",
    "\\begin{equation*}\n",
    "pCO_2 = xCO_2 \\cdot p_\\text{equ}\n",
    "\\end{equation*}"
   ]
  },
  {
   "cell_type": "code",
   "execution_count": 7,
   "metadata": {
    "pycharm": {
     "name": "#%%\n"
    }
   },
   "outputs": [],
   "source": [
    "df['pCO2_wet_equ'] = ppm2uatm(df['CO2'], df['press_equ'])"
   ]
  },
  {
   "cell_type": "markdown",
   "metadata": {
    "pycharm": {
     "name": "#%% md\n"
    }
   },
   "source": [
    "Second, we want to apply a temperature correction.\n",
    "This might be necessary when the temperatures at the water intake (often outside the ship) and at the OceanPack CTD differ.\n",
    "The correction used here follows Takahashi et al. (2009):\n",
    "\n",
    "\\begin{equation*}\n",
    "{(xCO_2)}_{SST} = {(xCO_2)}_{T_\\text{equ}} \\cdot \\exp{\\Big(0.0433\\cdot(SST - T_\\text{equ}) - 4.35\\times 10^{-5}\\cdot(SST^2 - T_\\text{equ}^2)\\Big)}\n",
    "\\end{equation*}\n",
    "\n",
    "For demonstration purposes, we create an artificial SST, which is slightly cooler than the water temperature measured at the equilibrator."
   ]
  },
  {
   "cell_type": "code",
   "execution_count": 8,
   "metadata": {
    "pycharm": {
     "name": "#%%\n"
    }
   },
   "outputs": [],
   "source": [
    "df['insituTemp'] = df['waterTemp'] - .2\n",
    "df['pCO2_wet_sst'] = temperature_correction(df['pCO2_wet_equ'], df['waterTemp'], df['insituTemp'])"
   ]
  },
  {
   "cell_type": "markdown",
   "metadata": {
    "pycharm": {
     "name": "#%% md\n"
    }
   },
   "source": [
    "Finally, we compute the fugacity by hands of the before calculated partial pressure, the pressure at the equilibrator, and the SST.\n",
    "\n",
    "According to Weiss (1974), the fugacity can be calculated via\n",
    "\n",
    "$$\n",
    "\\begin{equation*}\n",
    "(fCO_2)^\\text{wet}_\\text{SST} = (pCO_2)^\\text{wet}_\\text{SST} \\cdot\n",
    "        \\exp{\\Big(p_\\text{equ}\\cdot\\frac{\\left[ B(CO_2,SST) + 2\\,\\left(1-(xCO_2)^\\text{wet}_{SST}\\right)^2 \\, \\delta(CO_2,SST)\\right]}{R\\cdot SST}\\Big)}\n",
    "\\end{equation*}\n",
    "$$\n",
    "\n",
    "where $SST$ is the sea surface temperature in K, $R$ the gas constant and $B(CO_2,SST)$ and $\\delta(CO_2,SST)$ are the virial coefficients for CO2 (both in $cm^3\\,mol^{-1}$), which are given as\n",
    "\n",
    "$$\n",
    "\\begin{equation*}\n",
    "B(CO_2,T) = -1636.75 + 12.0408\\,T - 0.0327957\\,T^2 + 0.0000316528\\,T^3\n",
    "\\end{equation*}\n",
    "$$\n",
    "\n",
    "and\n",
    "\n",
    "$$\n",
    "\\begin{equation*}\n",
    "\\delta(CO_2,T) = 57.7 - 0.188\\,T\n",
    "\\end{equation*}\n",
    "$$"
   ]
  },
  {
   "cell_type": "code",
   "execution_count": 9,
   "metadata": {
    "pycharm": {
     "name": "#%%\n"
    }
   },
   "outputs": [],
   "source": [
    "df['fCO2_wet_sst'] = fugacity(df['pCO2_wet_sst'], df['press_equ'], df['insituTemp'])\n"
   ]
  },
  {
   "cell_type": "markdown",
   "metadata": {
    "pycharm": {
     "name": "#%% md\n"
    }
   },
   "source": [
    "## Plot the results\n",
    "Let's plot the time series of the pCO2 in wet air both at the equilibrator and at sea-surface temperature as well as the fugacity given in wet air and at sea-surface temperature."
   ]
  },
  {
   "cell_type": "code",
   "execution_count": 10,
   "metadata": {
    "pycharm": {
     "name": "#%%\n"
    }
   },
   "outputs": [
    {
     "data": {
      "image/png": "[encoded data removed]",
      "text/plain": [
       "<Figure size 432x288 with 1 Axes>"
      ]
     },
     "metadata": {
      "needs_background": "light"
     },
     "output_type": "display_data"
    }
   ],
   "source": [
    "import matplotlib.pyplot as plt\n",
    "df['pCO2_wet_equ'].plot()\n",
    "df['pCO2_wet_sst'].plot()\n",
    "df['fCO2_wet_sst'].plot()\n",
    "plt.legend()\n",
    "plt.xlabel('Time')\n",
    "plt.ylabel('CO2 [µatm]')\n",
    "plt.show()"
   ]
  }
 ],
 "metadata": {
  "kernelspec": {
   "display_name": "Python [conda env:sia-eval] *",
   "language": "python",
   "name": "conda-env-sia-eval-py"
  },
  "language_info": {
   "codemirror_mode": {
    "name": "ipython",
    "version": 3
   },
   "file_extension": ".py",
   "mimetype": "text/x-python",
   "name": "python",
   "nbconvert_exporter": "python",
   "pygments_lexer": "ipython3",
   "version": "3.9.4"
  }
 },
 "nbformat": 4,
 "nbformat_minor": 4
}
